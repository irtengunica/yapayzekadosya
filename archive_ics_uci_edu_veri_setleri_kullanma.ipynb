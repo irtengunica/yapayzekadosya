{
  "nbformat": 4,
  "nbformat_minor": 0,
  "metadata": {
    "colab": {
      "provenance": [],
      "authorship_tag": "ABX9TyNw+JL5yQ8E01+wGLfv/C79",
      "include_colab_link": true
    },
    "kernelspec": {
      "name": "python3",
      "display_name": "Python 3"
    },
    "language_info": {
      "name": "python"
    }
  },
  "cells": [
    {
      "cell_type": "markdown",
      "metadata": {
        "id": "view-in-github",
        "colab_type": "text"
      },
      "source": [
        "<a href=\"https://colab.research.google.com/github/irtengunica/yapayzekadosya/blob/master/archive_ics_uci_edu_veri_setleri_kullanma.ipynb\" target=\"_parent\"><img src=\"https://colab.research.google.com/assets/colab-badge.svg\" alt=\"Open In Colab\"/></a>"
      ]
    },
    {
      "cell_type": "code",
      "execution_count": null,
      "metadata": {
        "colab": {
          "base_uri": "https://localhost:8080/"
        },
        "id": "p4YIP3qvJ0LO",
        "outputId": "a50f1369-a112-487f-e416-01186a4c6d34"
      },
      "outputs": [
        {
          "output_type": "stream",
          "name": "stdout",
          "text": [
            "Collecting ucimlrepo\n",
            "  Downloading ucimlrepo-0.0.6-py3-none-any.whl (8.0 kB)\n",
            "Installing collected packages: ucimlrepo\n",
            "Successfully installed ucimlrepo-0.0.6\n"
          ]
        }
      ],
      "source": [
        "!pip install ucimlrepo"
      ]
    },
    {
      "cell_type": "code",
      "source": [
        "from ucimlrepo import fetch_ucirepo\n",
        "\n",
        "# fetch dataset\n",
        "raisin = fetch_ucirepo(id=850)\n",
        "\n",
        "# data (as pandas dataframes)\n",
        "X = raisin.data.features\n",
        "Y = raisin.data.targets\n",
        "\n",
        "# metadata\n",
        "#print(raisin.metadata)\n",
        "\n",
        "# variable information\n",
        "#print(raisin.variables)\n",
        "print (X)\n",
        "print (Y)\n",
        "from sklearn.model_selection import train_test_split\n",
        "X_train, X_test, Y_train, Y_test = train_test_split(X, Y, test_size = 0.15, random_state = 0)\n",
        "print(\"Eğitim veri seti boyutu=\",len(X_train))\n",
        "print(\"Test veri seti boyutu=\",len(X_test))\n",
        "#print(X_train)\n",
        "from sklearn.tree import DecisionTreeClassifier\n",
        "model = DecisionTreeClassifier()\n",
        "model.fit(X_train,Y_train)\n",
        "Y_tahmin = model.predict(X_test)\n",
        "from sklearn.metrics import confusion_matrix\n",
        "hata_matrisi = confusion_matrix(Y_test, Y_tahmin)\n",
        "print(hata_matrisi)\n",
        "import seaborn as sns\n",
        "import pandas as pd\n",
        "import matplotlib.pyplot as plt\n",
        "index = ['Kecimen','Besni']\n",
        "columns = ['Kecimen','Besni']\n",
        "hata_goster = pd.DataFrame(hata_matrisi,columns,index)\n",
        "plt.figure(figsize=(10,6))\n",
        "sns.heatmap(hata_goster, annot=True)\n"
      ],
      "metadata": {
        "colab": {
          "base_uri": "https://localhost:8080/",
          "height": 1000
        },
        "id": "qdjzTwdDKB4D",
        "outputId": "c6a5bf35-9ddd-4ef2-8a7e-bd3af4dc5d6a"
      },
      "execution_count": null,
      "outputs": [
        {
          "output_type": "stream",
          "name": "stdout",
          "text": [
            "      Area  MajorAxisLength  MinorAxisLength  Eccentricity  ConvexArea  \\\n",
            "0    87524       442.246011       253.291155      0.819738       90546   \n",
            "1    75166       406.690687       243.032436      0.801805       78789   \n",
            "2    90856       442.267048       266.328318      0.798354       93717   \n",
            "3    45928       286.540559       208.760042      0.684989       47336   \n",
            "4    79408       352.190770       290.827533      0.564011       81463   \n",
            "..     ...              ...              ...           ...         ...   \n",
            "895  83248       430.077308       247.838695      0.817263       85839   \n",
            "896  87350       440.735698       259.293149      0.808629       90899   \n",
            "897  99657       431.706981       298.837323      0.721684      106264   \n",
            "898  93523       476.344094       254.176054      0.845739       97653   \n",
            "899  85609       512.081774       215.271976      0.907345       89197   \n",
            "\n",
            "       Extent  Perimeter  \n",
            "0    0.758651   1184.040  \n",
            "1    0.684130   1121.786  \n",
            "2    0.637613   1208.575  \n",
            "3    0.699599    844.162  \n",
            "4    0.792772   1073.251  \n",
            "..        ...        ...  \n",
            "895  0.668793   1129.072  \n",
            "896  0.636476   1214.252  \n",
            "897  0.741099   1292.828  \n",
            "898  0.658798   1258.548  \n",
            "899  0.632020   1272.862  \n",
            "\n",
            "[900 rows x 7 columns]\n",
            "       Class\n",
            "0    Kecimen\n",
            "1    Kecimen\n",
            "2    Kecimen\n",
            "3    Kecimen\n",
            "4    Kecimen\n",
            "..       ...\n",
            "895    Besni\n",
            "896    Besni\n",
            "897    Besni\n",
            "898    Besni\n",
            "899    Besni\n",
            "\n",
            "[900 rows x 1 columns]\n",
            "Eğitim veri seti boyutu= 765\n",
            "Test veri seti boyutu= 135\n",
            "[[63 14]\n",
            " [13 45]]\n"
          ]
        },
        {
          "output_type": "execute_result",
          "data": {
            "text/plain": [
              "<Axes: >"
            ]
          },
          "metadata": {},
          "execution_count": 18
        },
        {
          "output_type": "display_data",
          "data": {
            "text/plain": [
              "<Figure size 1000x600 with 2 Axes>"
            ],
            "image/png": "[encoded data removed]"
          },
          "metadata": {}
        }
      ]
    },
    {
      "cell_type": "code",
      "source": [
        "from ucimlrepo import fetch_ucirepo\n",
        "\n",
        "# fetch dataset\n",
        "raisin = fetch_ucirepo(id=850)\n",
        "\n",
        "# data (as pandas dataframes)\n",
        "X = raisin.data.features\n",
        "Y = raisin.data.targets\n",
        "\n",
        "# metadata\n",
        "#print(raisin.metadata)\n",
        "\n",
        "# variable information\n",
        "#print(raisin.variables)\n",
        "print (X)\n",
        "print (Y)\n",
        "from sklearn.model_selection import train_test_split\n",
        "X_train, X_test, Y_train, Y_test = train_test_split(X, Y, test_size = 0.20, random_state = 0)\n",
        "print(\"Eğitim veri seti boyutu=\",len(X_train))\n",
        "print(\"Test veri seti boyutu=\",len(X_test))\n",
        "from sklearn.neighbors import KNeighborsClassifier\n",
        "model = KNeighborsClassifier ()\n",
        "model.fit(X_train,Y_train)\n",
        "Y_tahmin = model.predict(X_test)\n",
        "from sklearn.metrics import confusion_matrix\n",
        "hata_matrisi = confusion_matrix(Y_test, Y_tahmin)\n",
        "print(hata_matrisi)\n",
        "import seaborn as sns\n",
        "import pandas as pd\n",
        "import matplotlib.pyplot as plt\n",
        "index = ['Kecimen','Besni']\n",
        "columns = ['Kecimen','Besni']\n",
        "hata_goster = pd.DataFrame(hata_matrisi,columns,index)\n",
        "plt.figure(figsize=(10,6))\n",
        "sns.heatmap(hata_goster, annot=True)"
      ],
      "metadata": {
        "colab": {
          "base_uri": "https://localhost:8080/",
          "height": 1000
        },
        "id": "u8UoNIvpUidg",
        "outputId": "ee3788ec-9ba0-4da3-ed4c-837fc7d8ddcc"
      },
      "execution_count": null,
      "outputs": [
        {
          "output_type": "stream",
          "name": "stdout",
          "text": [
            "      Area  MajorAxisLength  MinorAxisLength  Eccentricity  ConvexArea  \\\n",
            "0    87524       442.246011       253.291155      0.819738       90546   \n",
            "1    75166       406.690687       243.032436      0.801805       78789   \n",
            "2    90856       442.267048       266.328318      0.798354       93717   \n",
            "3    45928       286.540559       208.760042      0.684989       47336   \n",
            "4    79408       352.190770       290.827533      0.564011       81463   \n",
            "..     ...              ...              ...           ...         ...   \n",
            "895  83248       430.077308       247.838695      0.817263       85839   \n",
            "896  87350       440.735698       259.293149      0.808629       90899   \n",
            "897  99657       431.706981       298.837323      0.721684      106264   \n",
            "898  93523       476.344094       254.176054      0.845739       97653   \n",
            "899  85609       512.081774       215.271976      0.907345       89197   \n",
            "\n",
            "       Extent  Perimeter  \n",
            "0    0.758651   1184.040  \n",
            "1    0.684130   1121.786  \n",
            "2    0.637613   1208.575  \n",
            "3    0.699599    844.162  \n",
            "4    0.792772   1073.251  \n",
            "..        ...        ...  \n",
            "895  0.668793   1129.072  \n",
            "896  0.636476   1214.252  \n",
            "897  0.741099   1292.828  \n",
            "898  0.658798   1258.548  \n",
            "899  0.632020   1272.862  \n",
            "\n",
            "[900 rows x 7 columns]\n",
            "       Class\n",
            "0    Kecimen\n",
            "1    Kecimen\n",
            "2    Kecimen\n",
            "3    Kecimen\n",
            "4    Kecimen\n",
            "..       ...\n",
            "895    Besni\n",
            "896    Besni\n",
            "897    Besni\n",
            "898    Besni\n",
            "899    Besni\n",
            "\n",
            "[900 rows x 1 columns]\n",
            "Eğitim veri seti boyutu= 720\n",
            "Test veri seti boyutu= 180\n",
            "[[78 19]\n",
            " [ 6 77]]\n"
          ]
        },
        {
          "output_type": "stream",
          "name": "stderr",
          "text": [
            "/usr/local/lib/python3.10/dist-packages/sklearn/neighbors/_classification.py:215: DataConversionWarning: A column-vector y was passed when a 1d array was expected. Please change the shape of y to (n_samples,), for example using ravel().\n",
            "  return self._fit(X, y)\n"
          ]
        },
        {
          "output_type": "execute_result",
          "data": {
            "text/plain": [
              "<Axes: >"
            ]
          },
          "metadata": {},
          "execution_count": 20
        },
        {
          "output_type": "display_data",
          "data": {
            "text/plain": [
              "<Figure size 1000x600 with 2 Axes>"
            ],
            "image/png": "[encoded data removed]"
          },
          "metadata": {}
        }
      ]
    },
    {
      "cell_type": "code",
      "source": [
        "from ucimlrepo import fetch_ucirepo\n",
        "from sklearn.svm import SVC\n",
        "from sklearn.metrics import accuracy_score\n",
        "from sklearn.linear_model import LogisticRegression\n",
        "# fetch dataset\n",
        "raisin = fetch_ucirepo(id=850)\n",
        "\n",
        "# data (as pandas dataframes)\n",
        "X = raisin.data.features\n",
        "Y = raisin.data.targets\n",
        "\n",
        "# metadata\n",
        "#print(raisin.metadata)\n",
        "\n",
        "# variable information\n",
        "#print(raisin.variables)\n",
        "print (X)\n",
        "print (Y)\n",
        "from sklearn.model_selection import train_test_split\n",
        "X_train, X_test, Y_train, Y_test = train_test_split(X, Y, test_size = 0.20, random_state = 0)\n",
        "print(\"Eğitim veri seti boyutu=\",len(X_train))\n",
        "print(\"Test veri seti boyutu=\",len(X_test))\n",
        "# SVM modelini oluşturma ve eğitme\n",
        "model = SVC()\n",
        "model.fit(X_train, Y_train)\n",
        "\n",
        "# Test verisi üzerinde tahmin yapma\n",
        "Y_tahmin = model.predict(X_test)\n",
        "\n",
        "# Doğruluk skorunu hesaplama\n",
        "dogruluk = accuracy_score(Y_test, Y_tahmin)\n",
        "print(\"Doğruluk:\", dogruluk)\n",
        "from sklearn.metrics import confusion_matrix\n",
        "hata_matrisi = confusion_matrix(Y_test, Y_tahmin)\n",
        "print(hata_matrisi)"
      ],
      "metadata": {
        "colab": {
          "base_uri": "https://localhost:8080/"
        },
        "id": "PIWg-ResU28c",
        "outputId": "367c952b-8356-47b1-e758-6d0cf0848f01"
      },
      "execution_count": null,
      "outputs": [
        {
          "output_type": "stream",
          "name": "stdout",
          "text": [
            "      Area  MajorAxisLength  MinorAxisLength  Eccentricity  ConvexArea  \\\n",
            "0    87524       442.246011       253.291155      0.819738       90546   \n",
            "1    75166       406.690687       243.032436      0.801805       78789   \n",
            "2    90856       442.267048       266.328318      0.798354       93717   \n",
            "3    45928       286.540559       208.760042      0.684989       47336   \n",
            "4    79408       352.190770       290.827533      0.564011       81463   \n",
            "..     ...              ...              ...           ...         ...   \n",
            "895  83248       430.077308       247.838695      0.817263       85839   \n",
            "896  87350       440.735698       259.293149      0.808629       90899   \n",
            "897  99657       431.706981       298.837323      0.721684      106264   \n",
            "898  93523       476.344094       254.176054      0.845739       97653   \n",
            "899  85609       512.081774       215.271976      0.907345       89197   \n",
            "\n",
            "       Extent  Perimeter  \n",
            "0    0.758651   1184.040  \n",
            "1    0.684130   1121.786  \n",
            "2    0.637613   1208.575  \n",
            "3    0.699599    844.162  \n",
            "4    0.792772   1073.251  \n",
            "..        ...        ...  \n",
            "895  0.668793   1129.072  \n",
            "896  0.636476   1214.252  \n",
            "897  0.741099   1292.828  \n",
            "898  0.658798   1258.548  \n",
            "899  0.632020   1272.862  \n",
            "\n",
            "[900 rows x 7 columns]\n",
            "       Class\n",
            "0    Kecimen\n",
            "1    Kecimen\n",
            "2    Kecimen\n",
            "3    Kecimen\n",
            "4    Kecimen\n",
            "..       ...\n",
            "895    Besni\n",
            "896    Besni\n",
            "897    Besni\n",
            "898    Besni\n",
            "899    Besni\n",
            "\n",
            "[900 rows x 1 columns]\n",
            "Eğitim veri seti boyutu= 720\n",
            "Test veri seti boyutu= 180\n",
            "Doğruluk: 0.8277777777777777\n",
            "[[73 24]\n",
            " [ 7 76]]\n"
          ]
        },
        {
          "output_type": "stream",
          "name": "stderr",
          "text": [
            "/usr/local/lib/python3.10/dist-packages/sklearn/utils/validation.py:1143: DataConversionWarning: A column-vector y was passed when a 1d array was expected. Please change the shape of y to (n_samples, ), for example using ravel().\n",
            "  y = column_or_1d(y, warn=True)\n"
          ]
        }
      ]
    },
    {
      "cell_type": "code",
      "source": [
        "from ucimlrepo import fetch_ucirepo\n",
        "from sklearn.svm import SVC\n",
        "from sklearn.metrics import accuracy_score\n",
        "from sklearn.linear_model import LogisticRegression\n",
        "# fetch dataset\n",
        "raisin = fetch_ucirepo(id=850)\n",
        "\n",
        "# data (as pandas dataframes)\n",
        "X = raisin.data.features\n",
        "Y = raisin.data.targets\n",
        "\n",
        "# metadata\n",
        "#print(raisin.metadata)\n",
        "\n",
        "# variable information\n",
        "#print(raisin.variables)\n",
        "print (X)\n",
        "print (Y)\n",
        "from sklearn.model_selection import train_test_split\n",
        "X_train, X_test, Y_train, Y_test = train_test_split(X, Y, test_size = 0.20, random_state = 0)\n",
        "print(\"Eğitim veri seti boyutu=\",len(X_train))\n",
        "print(\"Test veri seti boyutu=\",len(X_test))\n",
        "# Lojistik Regresyon modelini oluşturma ve eğitme\n",
        "model = LogisticRegression()\n",
        "model.fit(X_train, Y_train)\n",
        "\n",
        "# Test verisi üzerinde tahmin yapma\n",
        "Y_tahmin = model.predict(X_test)\n",
        "\n",
        "# Doğruluk skorunu hesaplama\n",
        "dogruluk = accuracy_score(Y_test, Y_tahmin)\n",
        "print(\"Doğruluk:\", dogruluk)\n",
        "from sklearn.metrics import confusion_matrix\n",
        "hata_matrisi = confusion_matrix(Y_test, Y_tahmin)\n",
        "print(hata_matrisi)"
      ],
      "metadata": {
        "colab": {
          "base_uri": "https://localhost:8080/"
        },
        "id": "NT7hFqeuVY7f",
        "outputId": "43ae116c-dacb-420e-f078-30cdeea46e04"
      },
      "execution_count": null,
      "outputs": [
        {
          "output_type": "stream",
          "name": "stdout",
          "text": [
            "      Area  MajorAxisLength  MinorAxisLength  Eccentricity  ConvexArea  \\\n",
            "0    87524       442.246011       253.291155      0.819738       90546   \n",
            "1    75166       406.690687       243.032436      0.801805       78789   \n",
            "2    90856       442.267048       266.328318      0.798354       93717   \n",
            "3    45928       286.540559       208.760042      0.684989       47336   \n",
            "4    79408       352.190770       290.827533      0.564011       81463   \n",
            "..     ...              ...              ...           ...         ...   \n",
            "895  83248       430.077308       247.838695      0.817263       85839   \n",
            "896  87350       440.735698       259.293149      0.808629       90899   \n",
            "897  99657       431.706981       298.837323      0.721684      106264   \n",
            "898  93523       476.344094       254.176054      0.845739       97653   \n",
            "899  85609       512.081774       215.271976      0.907345       89197   \n",
            "\n",
            "       Extent  Perimeter  \n",
            "0    0.758651   1184.040  \n",
            "1    0.684130   1121.786  \n",
            "2    0.637613   1208.575  \n",
            "3    0.699599    844.162  \n",
            "4    0.792772   1073.251  \n",
            "..        ...        ...  \n",
            "895  0.668793   1129.072  \n",
            "896  0.636476   1214.252  \n",
            "897  0.741099   1292.828  \n",
            "898  0.658798   1258.548  \n",
            "899  0.632020   1272.862  \n",
            "\n",
            "[900 rows x 7 columns]\n",
            "       Class\n",
            "0    Kecimen\n",
            "1    Kecimen\n",
            "2    Kecimen\n",
            "3    Kecimen\n",
            "4    Kecimen\n",
            "..       ...\n",
            "895    Besni\n",
            "896    Besni\n",
            "897    Besni\n",
            "898    Besni\n",
            "899    Besni\n",
            "\n",
            "[900 rows x 1 columns]\n",
            "Eğitim veri seti boyutu= 720\n",
            "Test veri seti boyutu= 180\n",
            "Doğruluk: 0.9055555555555556\n",
            "[[87 10]\n",
            " [ 7 76]]\n"
          ]
        },
        {
          "output_type": "stream",
          "name": "stderr",
          "text": [
            "/usr/local/lib/python3.10/dist-packages/sklearn/utils/validation.py:1143: DataConversionWarning: A column-vector y was passed when a 1d array was expected. Please change the shape of y to (n_samples, ), for example using ravel().\n",
            "  y = column_or_1d(y, warn=True)\n"
          ]
        }
      ]
    },
    {
      "cell_type": "code",
      "source": [
        "import pandas as pd\n",
        "from sklearn.model_selection import train_test_split\n",
        "from sklearn.tree import DecisionTreeClassifier\n",
        "from sklearn.metrics import accuracy_score, precision_score, recall_score, f1_score\n",
        "\n",
        "# Veri kümenizi yükleyin ve ön işleme yapın ('your_data.csv'yi gerçek dosya adınızla değiştirin)\n",
        "#data = pd.read_csv('your_data.csv')\n",
        "# ... Veri ön işleme ve özellik mühendisliği işlemlerini gerçekleştirin ...\n",
        "\n",
        "# Özellikleri (X) ve hedef değişkeni (y) ayırın\n",
        "#X = data[özellik_sütunları]  # 'özellik_sütunları'nı gerçek özellik adlarınızla değiştirin\n",
        "#y = data['hedef_değişken']  # 'hedef_değişken'i gerçek hedef değişken adınızla değiştirin\n",
        "\n",
        "from ucimlrepo import fetch_ucirepo\n",
        "\n",
        "# fetch dataset\n",
        "raisin = fetch_ucirepo(id=850)\n",
        "\n",
        "# data (as pandas dataframes)\n",
        "X = raisin.data.features\n",
        "y = raisin.data.targets\n",
        "\n",
        "\n",
        "# Verileri eğitim ve test kümelerine bölün\n",
        "X_train, X_test, y_train, y_test = train_test_split(X, y, test_size=0.2, random_state=30)\n",
        "\n",
        "# Karar Ağacı Sınıflandırıcıyı oluşturun ve eğitin\n",
        "dtc = DecisionTreeClassifier()\n",
        "dtc.fit(X_train, y_train)\n",
        "\n",
        "# Test verileri üzerinde tahminler yapın\n",
        "y_pred = dtc.predict(X_test)\n",
        "\n",
        "# Model performansını değerlendirin\n",
        "doğruluk = accuracy_score(y_test, y_pred)\n",
        "#hassasiyet = precision_score(y_test, y_pred)\n",
        "#geri_çağırma = recall_score(y_test, y_pred)\n",
        "#f1 = f1_score(y_test, y_pred)\n",
        "\n",
        "print(\"Doğruluk:\", doğruluk)\n",
        "#print(\"Hassasiyet:\", hassasiyet)\n",
        "#print(\"Geri Çağırma:\", geri_çağırma)\n",
        "#print(\"F1 Skoru:\", f1)\n",
        "from sklearn.metrics import confusion_matrix\n",
        "hata_matrisi = confusion_matrix(Y_test, Y_tahmin)\n",
        "print(hata_matrisi)\n",
        "import seaborn as sns\n",
        "import pandas as pd\n",
        "import matplotlib.pyplot as plt\n",
        "index = ['Kecimen','Besni']\n",
        "columns = ['Kecimen','Besni']\n",
        "hata_goster = pd.DataFrame(hata_matrisi,columns,index)\n",
        "plt.figure(figsize=(10,6))\n",
        "sns.heatmap(hata_goster, annot=True)"
      ],
      "metadata": {
        "colab": {
          "base_uri": "https://localhost:8080/",
          "height": 591
        },
        "id": "8vkAwzXoXPQJ",
        "outputId": "76cbeb5f-a438-40ce-9822-360e10780296"
      },
      "execution_count": null,
      "outputs": [
        {
          "output_type": "stream",
          "name": "stdout",
          "text": [
            "Doğruluk: 0.8222222222222222\n",
            "[[87 10]\n",
            " [ 7 76]]\n"
          ]
        },
        {
          "output_type": "execute_result",
          "data": {
            "text/plain": [
              "<Axes: >"
            ]
          },
          "metadata": {},
          "execution_count": 37
        },
        {
          "output_type": "display_data",
          "data": {
            "text/plain": [
              "<Figure size 1000x600 with 2 Axes>"
            ],
            "image/png": "[encoded data removed]"
          },
          "metadata": {}
        }
      ]
    }
  ]
}